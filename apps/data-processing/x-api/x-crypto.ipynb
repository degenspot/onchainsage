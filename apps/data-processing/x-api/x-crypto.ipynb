{
 "cells": [
  {
   "cell_type": "code",
   "execution_count": 18,
   "metadata": {},
   "outputs": [],
   "source": [
    "import requests\n",
    "import json\n",
    "import time\n",
    "import random \n",
    "import os\n",
    "from typing import Tuple\n",
    "import pandas as pd "
   ]
  },
  {
   "cell_type": "code",
   "execution_count": 26,
   "metadata": {},
   "outputs": [],
   "source": [
    "\n",
    "BEARER_TOKEN = os.environ.get(\"BEARER_TOKEN\")\n",
    "\n",
    "ENDPOINT_URL = \"https://api.x.com/2/tweets/search/recent\"\n",
    "\n",
    "query_parameters = {\"query\": '(\"crypto news\" OR \"crypto\" OR tokens) lang:en -is:retweet',\n",
    "    \"tweet.fields\": \"id,text,author_id,created_at\",\n",
    "    \"user.fields\": \"id,name,username,created_at,description,location,verified\",\n",
    "    \"expansions\": \"author_id\",\n",
    "    \"max_results\": 10,\n",
    "}\n",
    "\n",
    "def request_headers(token: str) -> dict:\n",
    "    '''   Returns a dictionary summarizing the bearer token authentication details.'''\n",
    "\n",
    "    return {\"Authorization\": f\"Bearer {token}\"}\n",
    "\n",
    "headers = request_headers(BEARER_TOKEN)"
   ]
  },
  {
   "cell_type": "code",
   "execution_count": 40,
   "metadata": {},
   "outputs": [],
   "source": [
    "\n",
    "def connect_to_endpoint(header: dict, parameters: dict, max_retries: int = 5) -> json:\n",
    "    \"\"\"\n",
    "    Connects to the endpoint and requests data.\n",
    "    Returns a json with Twitter data if a 200 status code is yielded.\n",
    "    Programme stops if there is a problem with the request and sleeps\n",
    "    if there is a temporary problem accessing the endpoint.\n",
    "    \"\"\"\n",
    "    attempt = 0\n",
    "    while attempt < max_retries:\n",
    "        response = requests.get(url=ENDPOINT_URL, headers=header, params=parameters, timeout=10)\n",
    "        response_status_code = response.status_code\n",
    "        \n",
    "        if response_status_code == 200:\n",
    "            return response.json()\n",
    "        \n",
    "        elif response_status_code == 429:\n",
    "            retry_after = int(response.headers.get(\"Retry-After\", random.randint(5,60)))\n",
    "            print(f\"Rate limited. Retrying in {retry_after} seconds...\")\n",
    "            time.sleep(retry_after)\n",
    "\n",
    "        elif 400 <= response_status_code < 500:\n",
    "            raise requests.exceptions.HTTPError(\n",
    "                f\"Cannot get data, the program will stop!\\nHTTP {response_status_code}: {response.text}\"\n",
    "                )\n",
    "        else:\n",
    "            wait_time = (2 ** attempt) + random.uniform(0, 1)\n",
    "            print(f\"Temporary issue, retrying in {wait_time:.2f} seconds...\\nHTTP {response_status_code}: {response.text}\")\n",
    "            time.sleep(wait_time)\n",
    "        attempt += 1\n",
    "\n",
    "    raise requests.exceptions.RetryError(\"Max retries exceeded. Unable to get data. \")\n"
   ]
  },
  {
   "cell_type": "code",
   "execution_count": null,
   "metadata": {},
   "outputs": [],
   "source": [
    "\n",
    "json_response = connect_to_endpoint(headers, query_parameters)"
   ]
  },
  {
   "cell_type": "code",
   "execution_count": 29,
   "metadata": {},
   "outputs": [
    {
     "data": {
      "text/plain": [
       "dict_keys(['data', 'includes', 'meta'])"
      ]
     },
     "execution_count": 29,
     "metadata": {},
     "output_type": "execute_result"
    }
   ],
   "source": [
    "json_response.keys()"
   ]
  },
  {
   "cell_type": "code",
   "execution_count": 30,
   "metadata": {},
   "outputs": [
    {
     "data": {
      "text/plain": [
       "{'newest_id': '1899580628435349651',\n",
       " 'oldest_id': '1899580620797255763',\n",
       " 'result_count': 10,\n",
       " 'next_token': 'b26v89c19zqg8o3frrctzp9i9l6k76vrorv92yvaajrel'}"
      ]
     },
     "execution_count": 30,
     "metadata": {},
     "output_type": "execute_result"
    }
   ],
   "source": [
    "json_response[\"meta\"]"
   ]
  },
  {
   "cell_type": "code",
   "execution_count": 31,
   "metadata": {},
   "outputs": [
    {
     "data": {
      "text/plain": [
       "10"
      ]
     },
     "execution_count": 31,
     "metadata": {},
     "output_type": "execute_result"
    }
   ],
   "source": [
    "len(json_response[\"data\"])"
   ]
  },
  {
   "cell_type": "code",
   "execution_count": 32,
   "metadata": {},
   "outputs": [
    {
     "data": {
      "text/plain": [
       "{'created_at': '2025-03-11T21:58:08.000Z',\n",
       " 'text': \"The Boost social &amp; on-chain engagement protocol is poised to evolve brand-audience interaction for major brands and creators worldwide\\n\\nI'm contributing to the @boostdotgg protocol to lead the way in consumer crypto\\n\\nLet's $BOOST. Join Season 1 with me\\n\\nhttps://t.co/XCd7uxMjIT\",\n",
       " 'author_id': '1489195098906963974',\n",
       " 'id': '1899580628435349651',\n",
       " 'edit_history_tweet_ids': ['1899580628435349651']}"
      ]
     },
     "execution_count": 32,
     "metadata": {},
     "output_type": "execute_result"
    }
   ],
   "source": [
    "json_response[\"data\"][0]"
   ]
  },
  {
   "cell_type": "code",
   "execution_count": 33,
   "metadata": {},
   "outputs": [
    {
     "data": {
      "text/plain": [
       "'b26v89c19zqg8o3frrctzp9i9l6k76vrorv92yvaajrel'"
      ]
     },
     "execution_count": 33,
     "metadata": {},
     "output_type": "execute_result"
    }
   ],
   "source": [
    "json_response['meta']['next_token']"
   ]
  },
  {
   "cell_type": "code",
   "execution_count": 34,
   "metadata": {},
   "outputs": [
    {
     "data": {
      "text/plain": [
       "dict_keys(['data', 'includes', 'meta'])"
      ]
     },
     "execution_count": 34,
     "metadata": {},
     "output_type": "execute_result"
    }
   ],
   "source": [
    "json_response.keys()"
   ]
  },
  {
   "cell_type": "code",
   "execution_count": 35,
   "metadata": {},
   "outputs": [],
   "source": [
    "\n",
    "def process_x_data(json_response: json,\n",
    "                   query_tag: str,\n",
    "                   tweets_data: pd.DataFrame,\n",
    "                   users_data: pd.DataFrame\n",
    "                   ) -> Tuple[pd.DataFrame, pd.DataFrame]:\n",
    "    \"\"\"\n",
    "    Adds new tweet/user information to the table of \n",
    "    tweets/users and saves dataframes as pickle files,\n",
    "    if data is available.\n",
    "    \"\"\"\n",
    "\n",
    "    if \"data\" in json_response.keys():\n",
    "        new = pd.DataFrame(json_response[\"data\"])\n",
    "        tweets_data = pd.concat([tweets_data, new])\n",
    "        tweets_data.to_pickle(\"tweets_\" + query_tag + \".pkl\")\n",
    "\n",
    "        if \"users\" in json_response[\"includes\"].keys():\n",
    "            new = pd.DataFrame(json_response[\"includes\"][\"users\"])\n",
    "            users_data = pd.concat([users_data, new])\n",
    "            users_data.drop_duplicates(\"id\", inplace=True)\n",
    "            users_data.to_pickle(\"users_\" + query_tag + \".pkl\")\n",
    "    return tweets_data, users_data \n"
   ]
  },
  {
   "cell_type": "code",
   "execution_count": 36,
   "metadata": {},
   "outputs": [],
   "source": [
    "tweets_data = pd.DataFrame()\n",
    "users_data = pd.DataFrame()\n",
    "query_tag = \"crypto\"\n",
    "\n",
    "tweets_data, users_data = process_x_data(\n",
    "        json_response, query_tag, tweets_data, users_data\n",
    "    )"
   ]
  },
  {
   "cell_type": "code",
   "execution_count": 38,
   "metadata": {},
   "outputs": [
    {
     "data": {
      "text/html": [
       "<div>\n",
       "<style scoped>\n",
       "    .dataframe tbody tr th:only-of-type {\n",
       "        vertical-align: middle;\n",
       "    }\n",
       "\n",
       "    .dataframe tbody tr th {\n",
       "        vertical-align: top;\n",
       "    }\n",
       "\n",
       "    .dataframe thead th {\n",
       "        text-align: right;\n",
       "    }\n",
       "</style>\n",
       "<table border=\"1\" class=\"dataframe\">\n",
       "  <thead>\n",
       "    <tr style=\"text-align: right;\">\n",
       "      <th></th>\n",
       "      <th>created_at</th>\n",
       "      <th>text</th>\n",
       "      <th>author_id</th>\n",
       "      <th>id</th>\n",
       "      <th>edit_history_tweet_ids</th>\n",
       "    </tr>\n",
       "  </thead>\n",
       "  <tbody>\n",
       "    <tr>\n",
       "      <th>0</th>\n",
       "      <td>2025-03-11T21:58:08.000Z</td>\n",
       "      <td>The Boost social &amp;amp; on-chain engagement pro...</td>\n",
       "      <td>1489195098906963974</td>\n",
       "      <td>1899580628435349651</td>\n",
       "      <td>[1899580628435349651]</td>\n",
       "    </tr>\n",
       "    <tr>\n",
       "      <th>1</th>\n",
       "      <td>2025-03-11T21:58:08.000Z</td>\n",
       "      <td>@HaykCryptoKing @lynk0x Take the $CHANCE, embr...</td>\n",
       "      <td>1870049003955421184</td>\n",
       "      <td>1899580627684299054</td>\n",
       "      <td>[1899580627684299054]</td>\n",
       "    </tr>\n",
       "    <tr>\n",
       "      <th>2</th>\n",
       "      <td>2025-03-11T21:58:08.000Z</td>\n",
       "      <td>📢 Exciting times! I pocketed 14500$ in the $DO...</td>\n",
       "      <td>1828384152548184064</td>\n",
       "      <td>1899580624945508375</td>\n",
       "      <td>[1899580624945508375]</td>\n",
       "    </tr>\n",
       "    <tr>\n",
       "      <th>3</th>\n",
       "      <td>2025-03-11T21:58:08.000Z</td>\n",
       "      <td>Exciting news in the crypto world! Coinbase's ...</td>\n",
       "      <td>908628906</td>\n",
       "      <td>1899580624945443158</td>\n",
       "      <td>[1899580624945443158]</td>\n",
       "    </tr>\n",
       "    <tr>\n",
       "      <th>4</th>\n",
       "      <td>2025-03-11T21:58:07.000Z</td>\n",
       "      <td>I’m watching my 401k and the housing market an...</td>\n",
       "      <td>28864965</td>\n",
       "      <td>1899580623594922432</td>\n",
       "      <td>[1899580623594922432]</td>\n",
       "    </tr>\n",
       "  </tbody>\n",
       "</table>\n",
       "</div>"
      ],
      "text/plain": [
       "                 created_at  \\\n",
       "0  2025-03-11T21:58:08.000Z   \n",
       "1  2025-03-11T21:58:08.000Z   \n",
       "2  2025-03-11T21:58:08.000Z   \n",
       "3  2025-03-11T21:58:08.000Z   \n",
       "4  2025-03-11T21:58:07.000Z   \n",
       "\n",
       "                                                text            author_id  \\\n",
       "0  The Boost social &amp; on-chain engagement pro...  1489195098906963974   \n",
       "1  @HaykCryptoKing @lynk0x Take the $CHANCE, embr...  1870049003955421184   \n",
       "2  📢 Exciting times! I pocketed 14500$ in the $DO...  1828384152548184064   \n",
       "3  Exciting news in the crypto world! Coinbase's ...            908628906   \n",
       "4  I’m watching my 401k and the housing market an...             28864965   \n",
       "\n",
       "                    id edit_history_tweet_ids  \n",
       "0  1899580628435349651  [1899580628435349651]  \n",
       "1  1899580627684299054  [1899580627684299054]  \n",
       "2  1899580624945508375  [1899580624945508375]  \n",
       "3  1899580624945443158  [1899580624945443158]  \n",
       "4  1899580623594922432  [1899580623594922432]  "
      ]
     },
     "execution_count": 38,
     "metadata": {},
     "output_type": "execute_result"
    }
   ],
   "source": [
    "tweets_data.head()"
   ]
  },
  {
   "cell_type": "code",
   "execution_count": 39,
   "metadata": {},
   "outputs": [
    {
     "data": {
      "text/html": [
       "<div>\n",
       "<style scoped>\n",
       "    .dataframe tbody tr th:only-of-type {\n",
       "        vertical-align: middle;\n",
       "    }\n",
       "\n",
       "    .dataframe tbody tr th {\n",
       "        vertical-align: top;\n",
       "    }\n",
       "\n",
       "    .dataframe thead th {\n",
       "        text-align: right;\n",
       "    }\n",
       "</style>\n",
       "<table border=\"1\" class=\"dataframe\">\n",
       "  <thead>\n",
       "    <tr style=\"text-align: right;\">\n",
       "      <th></th>\n",
       "      <th>verified</th>\n",
       "      <th>id</th>\n",
       "      <th>username</th>\n",
       "      <th>name</th>\n",
       "      <th>description</th>\n",
       "      <th>created_at</th>\n",
       "      <th>location</th>\n",
       "    </tr>\n",
       "  </thead>\n",
       "  <tbody>\n",
       "    <tr>\n",
       "      <th>0</th>\n",
       "      <td>False</td>\n",
       "      <td>1489195098906963974</td>\n",
       "      <td>Looweo</td>\n",
       "      <td>Luzeno</td>\n",
       "      <td>crypto enthusiast ~\\nbao bao 🐼</td>\n",
       "      <td>2022-02-03T11:12:42.000Z</td>\n",
       "      <td>NaN</td>\n",
       "    </tr>\n",
       "    <tr>\n",
       "      <th>1</th>\n",
       "      <td>False</td>\n",
       "      <td>1870049003955421184</td>\n",
       "      <td>alkuice</td>\n",
       "      <td>Alkuice</td>\n",
       "      <td>CryptoPro</td>\n",
       "      <td>2024-12-20T10:10:12.000Z</td>\n",
       "      <td>Nigeria</td>\n",
       "    </tr>\n",
       "    <tr>\n",
       "      <th>2</th>\n",
       "      <td>False</td>\n",
       "      <td>1828384152548184064</td>\n",
       "      <td>HollandRaq</td>\n",
       "      <td>moepokes</td>\n",
       "      <td>Not a singer but an artist..  a storyteller .....</td>\n",
       "      <td>2024-08-27T10:48:52.000Z</td>\n",
       "      <td>Montgomery, IL</td>\n",
       "    </tr>\n",
       "    <tr>\n",
       "      <th>3</th>\n",
       "      <td>False</td>\n",
       "      <td>908628906</td>\n",
       "      <td>LinaShaney</td>\n",
       "      <td>lina  shaney caicedo</td>\n",
       "      <td></td>\n",
       "      <td>2012-10-27T18:09:27.000Z</td>\n",
       "      <td>NaN</td>\n",
       "    </tr>\n",
       "    <tr>\n",
       "      <th>4</th>\n",
       "      <td>False</td>\n",
       "      <td>28864965</td>\n",
       "      <td>DawktaJawlz</td>\n",
       "      <td>JewelsVerne 🏳️‍🌈</td>\n",
       "      <td>Psychology PhD. Sr User Researcher. Previously...</td>\n",
       "      <td>2009-04-04T20:33:19.000Z</td>\n",
       "      <td>NaN</td>\n",
       "    </tr>\n",
       "  </tbody>\n",
       "</table>\n",
       "</div>"
      ],
      "text/plain": [
       "   verified                   id     username                  name  \\\n",
       "0     False  1489195098906963974       Looweo                Luzeno   \n",
       "1     False  1870049003955421184      alkuice               Alkuice   \n",
       "2     False  1828384152548184064   HollandRaq              moepokes   \n",
       "3     False            908628906   LinaShaney  lina  shaney caicedo   \n",
       "4     False             28864965  DawktaJawlz      JewelsVerne 🏳️‍🌈   \n",
       "\n",
       "                                         description  \\\n",
       "0                     crypto enthusiast ~\\nbao bao 🐼   \n",
       "1                                          CryptoPro   \n",
       "2  Not a singer but an artist..  a storyteller .....   \n",
       "3                                                      \n",
       "4  Psychology PhD. Sr User Researcher. Previously...   \n",
       "\n",
       "                 created_at         location  \n",
       "0  2022-02-03T11:12:42.000Z              NaN  \n",
       "1  2024-12-20T10:10:12.000Z          Nigeria  \n",
       "2  2024-08-27T10:48:52.000Z   Montgomery, IL  \n",
       "3  2012-10-27T18:09:27.000Z              NaN  \n",
       "4  2009-04-04T20:33:19.000Z              NaN  "
      ]
     },
     "execution_count": 39,
     "metadata": {},
     "output_type": "execute_result"
    }
   ],
   "source": [
    "users_data.head()"
   ]
  },
  {
   "cell_type": "code",
   "execution_count": null,
   "metadata": {},
   "outputs": [],
   "source": []
  }
 ],
 "metadata": {
  "kernelspec": {
   "display_name": "venv",
   "language": "python",
   "name": "python3"
  },
  "language_info": {
   "codemirror_mode": {
    "name": "ipython",
    "version": 3
   },
   "file_extension": ".py",
   "mimetype": "text/x-python",
   "name": "python",
   "nbconvert_exporter": "python",
   "pygments_lexer": "ipython3",
   "version": "3.10.14"
  }
 },
 "nbformat": 4,
 "nbformat_minor": 2
}
