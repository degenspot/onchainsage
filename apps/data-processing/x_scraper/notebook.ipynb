{
 "cells": [
  {
   "cell_type": "code",
   "execution_count": null,
   "metadata": {},
   "outputs": [],
   "source": [
    "from ntscraper import Nitter\n",
    "import pandas as pd\n"
   ]
  },
  {
   "cell_type": "code",
   "execution_count": 3,
   "metadata": {},
   "outputs": [
    {
     "name": "stderr",
     "output_type": "stream",
     "text": [
      "Testing instances: 100%|██████████| 7/7 [00:12<00:00,  1.74s/it]\n"
     ]
    }
   ],
   "source": [
    "scraper = Nitter()"
   ]
  },
  {
   "cell_type": "code",
   "execution_count": 5,
   "metadata": {},
   "outputs": [
    {
     "name": "stdout",
     "output_type": "stream",
     "text": [
      "16-Mar-25 23:10:04 - No instance specified, using random instance https://nitter.privacyredirect.com\n",
      "16-Mar-25 23:10:11 - Current stats for crypto: 6 tweets, 0 threads...\n",
      "16-Mar-25 23:10:16 - Current stats for crypto: 10 tweets, 0 threads...\n"
     ]
    }
   ],
   "source": [
    "crypto_tweets = scraper.get_tweets(\"crypto\", mode='hashtag', number =10)\n"
   ]
  },
  {
   "cell_type": "code",
   "execution_count": 6,
   "metadata": {},
   "outputs": [
    {
     "name": "stdout",
     "output_type": "stream",
     "text": [
      "dict_keys(['tweets', 'threads'])\n"
     ]
    }
   ],
   "source": [
    "print(crypto_tweets.keys())"
   ]
  },
  {
   "cell_type": "code",
   "execution_count": 7,
   "metadata": {},
   "outputs": [
    {
     "name": "stdout",
     "output_type": "stream",
     "text": [
      "{'link': 'https://twitter.com/MarketProphit/status/1901395558985765189#m', 'text': '$XRP Sentiment   CROWD = Bearish 🟥 MP | #SmartMoney = Bullish 🟩   #Ripple Check out sentiment and other crypto stats at marketprophit.com #Crypto #Marketprophit', 'user': {'name': 'Market Prophit', 'username': '@MarketProphit', 'profile_id': '1423718577299984388', 'avatar': 'https://pbs.twimg.com/profile_images/1423718577299984388/UVlI_qLh_bigger.jpg'}, 'date': 'Mar 16, 2025 · 10:10 PM UTC', 'is-retweet': False, 'is-pinned': False, 'external-link': '', 'replying-to': [], 'quoted-post': {}, 'stats': {'comments': 0, 'retweets': 0, 'quotes': 0, 'likes': 0}, 'pictures': ['https://pbs.twimg.com/media/GmMdL2vXsAAbMzO.png'], 'videos': [], 'gifs': []}\n"
     ]
    }
   ],
   "source": [
    "print(crypto_tweets['tweets'][0])"
   ]
  },
  {
   "cell_type": "code",
   "execution_count": 8,
   "metadata": {},
   "outputs": [],
   "source": [
    "data = {\n",
    "    'link': [],\n",
    "    'text': [],\n",
    "    'user': [],\n",
    "    'likes': [],\n",
    "    'retweets': [],\n",
    "    'comments': []\n",
    "\n",
    "}\n",
    "\n",
    "for tweet in crypto_tweets['tweets']:\n",
    "    data['link'].append(tweet['link'])\n",
    "    data['text'].append(tweet['text'])\n",
    "    data['user'].append(tweet['user']['name'])\n",
    "    data['likes'].append(tweet['stats']['likes'])\n",
    "    data['retweets'].append(tweet['stats']['retweets'])\n",
    "    data['comments'].append(tweet['stats']['comments'])"
   ]
  },
  {
   "cell_type": "code",
   "execution_count": 9,
   "metadata": {},
   "outputs": [
    {
     "data": {
      "text/html": [
       "<div>\n",
       "<style scoped>\n",
       "    .dataframe tbody tr th:only-of-type {\n",
       "        vertical-align: middle;\n",
       "    }\n",
       "\n",
       "    .dataframe tbody tr th {\n",
       "        vertical-align: top;\n",
       "    }\n",
       "\n",
       "    .dataframe thead th {\n",
       "        text-align: right;\n",
       "    }\n",
       "</style>\n",
       "<table border=\"1\" class=\"dataframe\">\n",
       "  <thead>\n",
       "    <tr style=\"text-align: right;\">\n",
       "      <th></th>\n",
       "      <th>link</th>\n",
       "      <th>text</th>\n",
       "      <th>user</th>\n",
       "      <th>likes</th>\n",
       "      <th>retweets</th>\n",
       "      <th>comments</th>\n",
       "    </tr>\n",
       "  </thead>\n",
       "  <tbody>\n",
       "    <tr>\n",
       "      <th>0</th>\n",
       "      <td>https://twitter.com/MarketProphit/status/19013...</td>\n",
       "      <td>$XRP Sentiment   CROWD = Bearish 🟥 MP | #Smart...</td>\n",
       "      <td>Market Prophit</td>\n",
       "      <td>0</td>\n",
       "      <td>0</td>\n",
       "      <td>0</td>\n",
       "    </tr>\n",
       "    <tr>\n",
       "      <th>1</th>\n",
       "      <td>https://twitter.com/MarketProphit/status/19013...</td>\n",
       "      <td>Top Buzzing Cryptos: CROWD  🟩 $LINK 🟥 $BTC 🟩 $...</td>\n",
       "      <td>Market Prophit</td>\n",
       "      <td>0</td>\n",
       "      <td>0</td>\n",
       "      <td>0</td>\n",
       "    </tr>\n",
       "    <tr>\n",
       "      <th>2</th>\n",
       "      <td>https://twitter.com/MarketProphit/status/19013...</td>\n",
       "      <td>Congrats @Psychometriks  You're a top Market P...</td>\n",
       "      <td>Market Prophit</td>\n",
       "      <td>0</td>\n",
       "      <td>0</td>\n",
       "      <td>0</td>\n",
       "    </tr>\n",
       "    <tr>\n",
       "      <th>3</th>\n",
       "      <td>https://twitter.com/gringo_AI_agent/status/190...</td>\n",
       "      <td>🚀 Crypto Update - March 16, 2025 at 22:10:04  ...</td>\n",
       "      <td>startups_agent_ai</td>\n",
       "      <td>0</td>\n",
       "      <td>0</td>\n",
       "      <td>0</td>\n",
       "    </tr>\n",
       "    <tr>\n",
       "      <th>4</th>\n",
       "      <td>https://twitter.com/AllFactsCrypto/status/1901...</td>\n",
       "      <td>💥FACT OF THE DAY💥 Michael Saylor now owns more...</td>\n",
       "      <td>All Facts Crypto</td>\n",
       "      <td>189</td>\n",
       "      <td>5</td>\n",
       "      <td>15</td>\n",
       "    </tr>\n",
       "  </tbody>\n",
       "</table>\n",
       "</div>"
      ],
      "text/plain": [
       "                                                link  \\\n",
       "0  https://twitter.com/MarketProphit/status/19013...   \n",
       "1  https://twitter.com/MarketProphit/status/19013...   \n",
       "2  https://twitter.com/MarketProphit/status/19013...   \n",
       "3  https://twitter.com/gringo_AI_agent/status/190...   \n",
       "4  https://twitter.com/AllFactsCrypto/status/1901...   \n",
       "\n",
       "                                                text               user  \\\n",
       "0  $XRP Sentiment   CROWD = Bearish 🟥 MP | #Smart...     Market Prophit   \n",
       "1  Top Buzzing Cryptos: CROWD  🟩 $LINK 🟥 $BTC 🟩 $...     Market Prophit   \n",
       "2  Congrats @Psychometriks  You're a top Market P...     Market Prophit   \n",
       "3  🚀 Crypto Update - March 16, 2025 at 22:10:04  ...  startups_agent_ai   \n",
       "4  💥FACT OF THE DAY💥 Michael Saylor now owns more...   All Facts Crypto   \n",
       "\n",
       "   likes  retweets  comments  \n",
       "0      0         0         0  \n",
       "1      0         0         0  \n",
       "2      0         0         0  \n",
       "3      0         0         0  \n",
       "4    189         5        15  "
      ]
     },
     "execution_count": 9,
     "metadata": {},
     "output_type": "execute_result"
    }
   ],
   "source": [
    "df = pd.DataFrame(data)\n",
    "df.head()"
   ]
  },
  {
   "cell_type": "code",
   "execution_count": null,
   "metadata": {},
   "outputs": [],
   "source": []
  }
 ],
 "metadata": {
  "kernelspec": {
   "display_name": "venv",
   "language": "python",
   "name": "python3"
  },
  "language_info": {
   "codemirror_mode": {
    "name": "ipython",
    "version": 3
   },
   "file_extension": ".py",
   "mimetype": "text/x-python",
   "name": "python",
   "nbconvert_exporter": "python",
   "pygments_lexer": "ipython3",
   "version": "3.10.14"
  }
 },
 "nbformat": 4,
 "nbformat_minor": 2
}
